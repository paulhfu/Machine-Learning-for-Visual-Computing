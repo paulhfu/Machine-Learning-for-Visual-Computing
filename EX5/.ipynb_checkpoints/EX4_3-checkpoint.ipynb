{
 "cells": [
  {
   "cell_type": "code",
   "execution_count": 59,
   "metadata": {
    "scrolled": false
   },
   "outputs": [],
   "source": [
    "import numpy as np\n",
    "import h5py as h5\n",
    "import matplotlib.pyplot as plt\n",
    "import scipy.ndimage\n",
    "import skimage.color\n",
    "import skimage.feature\n",
    "import sklearn.ensemble\n",
    "from matplotlib.colors import LinearSegmentedColormap\n",
    "import ipywidgets as widgets\n",
    "from ipywidgets import interact, interactive, fixed\n",
    "import ipywidgets as widgets\n",
    "from copy import copy, deepcopy"
   ]
  },
  {
   "cell_type": "code",
   "execution_count": 60,
   "metadata": {},
   "outputs": [],
   "source": [
    "class Img_path:\n",
    "    image = 0\n",
    "    path = 0\n",
    "    \n",
    "    def __init__(self, image, path):\n",
    "        self.image = image\n",
    "        self.path = path"
   ]
  },
  {
   "cell_type": "code",
   "execution_count": 67,
   "metadata": {},
   "outputs": [
    {
     "name": "stdout",
     "output_type": "stream",
     "text": [
      "[[ 0.  0.]\n",
      " [ 0.  1.]\n",
      " [ 0.  2.]\n",
      " [ 0.  3.]\n",
      " [ 0.  4.]\n",
      " [ 0.  5.]\n",
      " [ 0.  6.]\n",
      " [ 0.  7.]\n",
      " [ 0.  8.]\n",
      " [ 0.  9.]\n",
      " [ 0. 10.]\n",
      " [ 0. 11.]\n",
      " [ 1. 12.]\n",
      " [ 2. 12.]\n",
      " [ 3. 12.]\n",
      " [ 4. 12.]\n",
      " [ 5. 12.]\n",
      " [ 6. 12.]\n",
      " [ 7. 12.]\n",
      " [ 8. 12.]\n",
      " [ 9. 12.]\n",
      " [10. 12.]\n",
      " [11. 12.]\n",
      " [12. 12.]\n",
      " [13. 12.]\n",
      " [14. 12.]\n",
      " [15. 12.]\n",
      " [16. 12.]\n",
      " [17. 12.]\n",
      " [18. 12.]\n",
      " [19. 12.]\n",
      " [20. 12.]\n",
      " [21. 12.]\n",
      " [22. 12.]\n",
      " [23. 12.]\n",
      " [24. 12.]\n",
      " [25. 12.]\n",
      " [26. 12.]\n",
      " [27. 12.]\n",
      " [28. 12.]\n",
      " [29. 13.]\n",
      " [29. 14.]\n",
      " [29. 15.]\n",
      " [29. 16.]\n",
      " [29. 17.]\n",
      " [29. 18.]\n",
      " [29. 19.]\n",
      " [29. 20.]\n",
      " [29. 21.]\n",
      " [29. 22.]\n",
      " [29. 23.]\n",
      " [29. 24.]\n",
      " [29. 25.]\n",
      " [29. 26.]\n",
      " [29. 27.]\n",
      " [29. 28.]\n",
      " [29. 29.]]\n"
     ]
    },
    {
     "data": {
      "text/plain": [
       "<matplotlib.image.AxesImage at 0x1cd0eeb4a20>"
      ]
     },
     "execution_count": 67,
     "metadata": {},
     "output_type": "execute_result"
    },
    {
     "data": {
      "image/png": "[encoded data removed]",
      "text/plain": [
       "<matplotlib.figure.Figure at 0x1cd0eedf5f8>"
      ]
     },
     "metadata": {},
     "output_type": "display_data"
    }
   ],
   "source": [
    "#EX 3b)\n",
    "\n",
    "file = h5.File('paths_and_images.h5','r')\n",
    "paths_and_images = []\n",
    "#print(file['1']['image'][::])\n",
    "#print(list(file.keys()))\n",
    "for key in file:\n",
    "    paths_and_images.append(Img_path(file[key]['image'][::], file[key]['path'][::1]))\n",
    "file.close()\n",
    "\n",
    "img_with_path = deepcopy(paths_and_images[0].image)\n",
    "itr = 0\n",
    "for y in range(img_with_path.shape[0]):\n",
    "    for x in range(img_with_path.shape[1]):\n",
    "        if x == paths_and_images[0].path[itr][1] and y == paths_and_images[0].path[itr][0]:\n",
    "            img_with_path[x][y] = 1.1\n",
    "            itr += 1\n",
    "\n",
    "plt.imshow(img_with_path)\n",
    "plt.imshow(paths_and_images[0].image)\n",
    "\n"
   ]
  },
  {
   "cell_type": "code",
   "execution_count": null,
   "metadata": {},
   "outputs": [],
   "source": []
  },
  {
   "cell_type": "code",
   "execution_count": null,
   "metadata": {},
   "outputs": [],
   "source": []
  },
  {
   "cell_type": "code",
   "execution_count": null,
   "metadata": {},
   "outputs": [],
   "source": []
  }
 ],
 "metadata": {
  "kernelspec": {
   "display_name": "Python 3",
   "language": "python",
   "name": "python3"
  },
  "language_info": {
   "codemirror_mode": {
    "name": "ipython",
    "version": 3
   },
   "file_extension": ".py",
   "mimetype": "text/x-python",
   "name": "python",
   "nbconvert_exporter": "python",
   "pygments_lexer": "ipython3",
   "version": "3.6.4"
  }
 },
 "nbformat": 4,
 "nbformat_minor": 2
}
