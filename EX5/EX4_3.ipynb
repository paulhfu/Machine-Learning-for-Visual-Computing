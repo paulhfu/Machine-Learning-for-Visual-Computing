{
 "cells": [
  {
   "cell_type": "code",
   "execution_count": 59,
   "metadata": {
    "scrolled": false
   },
   "outputs": [],
   "source": [
    "import numpy as np\n",
    "import h5py as h5\n",
    "import matplotlib.pyplot as plt\n",
    "import scipy.ndimage\n",
    "import skimage.color\n",
    "import skimage.feature\n",
    "import sklearn.ensemble\n",
    "from matplotlib.colors import LinearSegmentedColormap\n",
    "import ipywidgets as widgets\n",
    "from ipywidgets import interact, interactive, fixed\n",
    "import ipywidgets as widgets\n",
    "from copy import copy, deepcopy"
   ]
  },
  {
   "cell_type": "code",
   "execution_count": 60,
   "metadata": {},
   "outputs": [],
   "source": [
    "class Img_path:\n",
    "    image = 0\n",
    "    path = 0\n",
    "    \n",
    "    def __init__(self, image, path):\n",
    "        self.image = image\n",
    "        self.path = path"
   ]
  },
  {
   "cell_type": "code",
   "execution_count": 85,
   "metadata": {},
   "outputs": [
    {
     "data": {
      "text/plain": [
       "<matplotlib.image.AxesImage at 0x1cd11b510b8>"
      ]
     },
     "execution_count": 85,
     "metadata": {},
     "output_type": "execute_result"
    },
    {
     "data": {
      "image/png": "[encoded data removed]",
      "text/plain": [
       "<matplotlib.figure.Figure at 0x1cd102b41d0>"
      ]
     },
     "metadata": {},
     "output_type": "display_data"
    }
   ],
   "source": [
    "#EX 3b)\n",
    "\n",
    "file = h5.File('paths_and_images.h5','r')\n",
    "paths_and_images = []\n",
    "#print(file['1']['image'][::])\n",
    "#print(list(file.keys()))\n",
    "for key in file:\n",
    "    paths_and_images.append(Img_path(file[key]['image'][::], file[key]['path'][::1]))\n",
    "file.close()\n",
    "\n",
    "img_with_path = deepcopy(paths_and_images[1].image)\n",
    "itr = 0\n",
    "for y in range(img_with_path.shape[0]):\n",
    "    for x in range(img_with_path.shape[1]):\n",
    "        if x == paths_and_images[1].path[itr][1] and y == paths_and_images[1].path[itr][0]:\n",
    "            img_with_path[x][y] = 0.0009 # Path is displayed in yellow in the image\n",
    "            itr += 1\n",
    "\n",
    "plt.figure()\n",
    "plt.imshow(img_with_path)\n",
    "\n"
   ]
  },
  {
   "cell_type": "code",
   "execution_count": null,
   "metadata": {},
   "outputs": [],
   "source": []
  },
  {
   "cell_type": "code",
   "execution_count": null,
   "metadata": {},
   "outputs": [],
   "source": []
  },
  {
   "cell_type": "code",
   "execution_count": null,
   "metadata": {},
   "outputs": [],
   "source": []
  }
 ],
 "metadata": {
  "kernelspec": {
   "display_name": "Python 3",
   "language": "python",
   "name": "python3"
  },
  "language_info": {
   "codemirror_mode": {
    "name": "ipython",
    "version": 3
   },
   "file_extension": ".py",
   "mimetype": "text/x-python",
   "name": "python",
   "nbconvert_exporter": "python",
   "pygments_lexer": "ipython3",
   "version": "3.6.4"
  }
 },
 "nbformat": 4,
 "nbformat_minor": 2
}
