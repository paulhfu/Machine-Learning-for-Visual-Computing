{
 "cells": [
  {
   "cell_type": "code",
   "execution_count": 15,
   "metadata": {},
   "outputs": [],
   "source": [
    "import numpy as np\n",
    "import scipy.sparse as sparse\n",
    "import h5py as h5\n",
    "import matplotlib.pyplot as plt\n",
    "import scipy.ndimage\n",
    "import skimage.color\n",
    "import skimage.feature\n",
    "import sklearn.ensemble\n",
    "from matplotlib.colors import LinearSegmentedColormap\n",
    "from copy import copy, deepcopy"
   ]
  },
  {
   "cell_type": "code",
   "execution_count": 16,
   "metadata": {},
   "outputs": [],
   "source": [
    "def gen_laplacian(n_pixel):\n",
    "    num = n_pixel*n_pixel\n",
    "    diag = np.ones(num)*4\n",
    "    diag[np.arange(num)%n_pixel==0] = 3\n",
    "    diag[np.arange(num)%n_pixel==n_pixel-1] = 3\n",
    "    diag[:n_pixel] -= 1\n",
    "    diag[-n_pixel:] -= 1\n",
    "    r_diag = np.ones(num-1)*(-1)\n",
    "    l_diag = np.ones(num-1)*(-1)\n",
    "    r_diag[np.arange(num-1)%n_pixel==n_pixel-1] = 0\n",
    "    l_diag[np.arange(num-1)%n_pixel==n_pixel-1] = 0\n",
    "    t_diag = np.ones(num-n_pixel)*(-1)\n",
    "    b_diag = np.ones(num-n_pixel)*(-1)\n",
    "    diagonals = [t_diag, l_diag, diag, r_diag, b_diag]\n",
    "    L = sparse.diags(diagonals, [-n_pixel,-1, 0, 1,n_pixel], format=\"csr\")\n",
    "    return(L)"
   ]
  },
  {
   "cell_type": "code",
   "execution_count": 93,
   "metadata": {},
   "outputs": [
    {
     "name": "stdout",
     "output_type": "stream",
     "text": [
      "10000\n"
     ]
    }
   ],
   "source": [
    "#EX01:\n",
    "\n",
    "image = np.zeros((100, 100))\n",
    "L = gen_laplacian(image.shape[0])\n",
    "seeds = [[30, 40]\n",
    "         ,[40, 80]\n",
    "         ,[70, 50]]\n",
    "\n",
    "colums = list(range(image.shape[0] * image.shape[1]))\n",
    "colums.remove(seeds[0][1])\n",
    "colums.remove(seeds[1][1])\n",
    "colums.remove(seeds[2][1])\n",
    "rows = list(range(image.shape[0] * image.shape[1]))\n",
    "rows.remove(seeds[0][0])\n",
    "rows.remove(seeds[1][0])\n",
    "rows.remove(seeds[2][0])\n",
    "\n",
    "A = sparse.csr_matrix(L[:,colums])\n",
    "A = sparse.csr_matrix(A[rows,:])\n",
    "B = np.zeros((A.shape[1] , 3))\n",
    "\n",
    "for i in range(B.shape[0]):\n",
    "    B[i, 0] = L[i, 40]\n",
    "    B[i, 1] = L[i, 80]\n",
    "    B[i, 2] = L[i, 50]\n",
    "\n",
    "x = []\n",
    "    \n",
    "for i in range(B.shape[1]):\n",
    "    x.append(list(sparse.linalg.spsolve(A, B[:,i])))\n",
    "\n",
    "x[0].insert(image.shape[1]*seeds[0][0]+seeds[0][1]-1, 1)\n",
    "x[1].insert(image.shape[1]*seeds[0][0]+seeds[0][1]-1, 0)\n",
    "x[2].insert(image.shape[1]*seeds[0][0]+seeds[0][1]-1, 0)\n",
    "\n",
    "x[0].insert(image.shape[1]*seeds[1][0]+seeds[1][1]-1, 0)\n",
    "x[1].insert(image.shape[1]*seeds[1][0]+seeds[1][1]-1, 1)\n",
    "x[2].insert(image.shape[1]*seeds[1][0]+seeds[1][1]-1, 0)\n",
    "\n",
    "x[0].insert(image.shape[1]*seeds[2][0]+seeds[2][1]-1, 0)\n",
    "x[1].insert(image.shape[1]*seeds[2][0]+seeds[2][1]-1, 0)\n",
    "x[2].insert(image.shape[1]*seeds[2][0]+seeds[2][1]-1, 1)\n",
    "\n",
    "\n"
   ]
  },
  {
   "cell_type": "code",
   "execution_count": null,
   "metadata": {},
   "outputs": [],
   "source": []
  }
 ],
 "metadata": {
  "kernelspec": {
   "display_name": "Python 3",
   "language": "python",
   "name": "python3"
  },
  "language_info": {
   "codemirror_mode": {
    "name": "ipython",
    "version": 3
   },
   "file_extension": ".py",
   "mimetype": "text/x-python",
   "name": "python",
   "nbconvert_exporter": "python",
   "pygments_lexer": "ipython3",
   "version": "3.6.4"
  }
 },
 "nbformat": 4,
 "nbformat_minor": 2
}
