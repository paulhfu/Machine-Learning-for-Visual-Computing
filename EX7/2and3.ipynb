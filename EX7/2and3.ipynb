{
 "cells": [
  {
   "cell_type": "raw",
   "metadata": {},
   "source": [
    "Exercise 2"
   ]
  },
  {
   "cell_type": "code",
   "execution_count": 4,
   "metadata": {},
   "outputs": [],
   "source": [
    "import matplotlib.pyplot as plt\n",
    "import matplotlib.image as mpimg\n",
    "import numpy as np\n",
    "from skimage.segmentation import random_walker"
   ]
  },
  {
   "cell_type": "code",
   "execution_count": 5,
   "metadata": {},
   "outputs": [],
   "source": [
    "imageA = np.zeros((100, 100))\n",
    "imageA[:, 50] = 1\n",
    "\n",
    "d = 5\n",
    "imageBC = np.copy(imageA)\n",
    "imageBC[50-d : 50+d, 50] = 0"
   ]
  },
  {
   "cell_type": "raw",
   "metadata": {},
   "source": [
    "a)"
   ]
  },
  {
   "cell_type": "code",
   "execution_count": 6,
   "metadata": {},
   "outputs": [
    {
     "data": {
      "text/plain": [
       "<matplotlib.image.AxesImage at 0x216f7d312b0>"
      ]
     },
     "execution_count": 6,
     "metadata": {},
     "output_type": "execute_result"
    },
    {
     "data": {
      "image/png": "[encoded data removed]",
      "text/plain": [
       "<matplotlib.figure.Figure at 0x216f7cad5c0>"
      ]
     },
     "metadata": {},
     "output_type": "display_data"
    }
   ],
   "source": [
    "markers = np.zeros((imageA.shape[0], imageA.shape[1]))\n",
    "markers[0][0] = 1\n",
    "markers[markers.shape[0] - 1][markers.shape[1] - 1] = 2\n",
    "\n",
    "fig = plt.figure()\n",
    "ax1 = fig.add_subplot(121)\n",
    "ax2 = fig.add_subplot(122)\n",
    "fig.subplots_adjust(right=1.3)\n",
    "\n",
    "\n",
    "ax1.set_title('Image')\n",
    "ax1.imshow(imageA, cmap='gray')\n",
    "\n",
    "ax2.set_title('Markers')\n",
    "ax2.imshow(markers, cmap='gray')"
   ]
  },
  {
   "cell_type": "code",
   "execution_count": 7,
   "metadata": {},
   "outputs": [
    {
     "data": {
      "text/plain": [
       "<matplotlib.image.AxesImage at 0x216f7db1ac8>"
      ]
     },
     "execution_count": 7,
     "metadata": {},
     "output_type": "execute_result"
    },
    {
     "data": {
      "image/png": "[encoded data removed]",
      "text/plain": [
       "<matplotlib.figure.Figure at 0x216f7c7ee48>"
      ]
     },
     "metadata": {},
     "output_type": "display_data"
    }
   ],
   "source": [
    "labels = random_walker(imageA, markers)\n",
    "\n",
    "plt.title('Random Walker')\n",
    "plt.imshow(labels, cmap='gray')"
   ]
  },
  {
   "cell_type": "raw",
   "metadata": {},
   "source": [
    "b)"
   ]
  },
  {
   "cell_type": "code",
   "execution_count": 8,
   "metadata": {},
   "outputs": [
    {
     "data": {
      "text/plain": [
       "<matplotlib.image.AxesImage at 0x216f7ec0f98>"
      ]
     },
     "execution_count": 8,
     "metadata": {},
     "output_type": "execute_result"
    },
    {
     "data": {
      "image/png": "[encoded data removed]",
      "text/plain": [
       "<matplotlib.figure.Figure at 0x216f7ddfc18>"
      ]
     },
     "metadata": {},
     "output_type": "display_data"
    }
   ],
   "source": [
    "fig = plt.figure()\n",
    "ax1 = fig.add_subplot(2, 2, 1)\n",
    "ax2 = fig.add_subplot(2, 2, 2)\n",
    "ax3 = fig.add_subplot(2, 2, 3)\n",
    "ax4 = fig.add_subplot(2, 2, 4)\n",
    "\n",
    "labels = random_walker(imageBC, markers)\n",
    "\n",
    "ax1.set_title('Image d=5')\n",
    "ax1.imshow(labels, cmap='gray')\n",
    "\n",
    "d = 15\n",
    "imageBC = np.copy(imageA)\n",
    "imageBC[50-d : 50+d, 50] = 0\n",
    "labels = random_walker(imageBC, markers)\n",
    "\n",
    "ax2.set_title('Image d=10')\n",
    "ax2.imshow(labels, cmap='gray')\n",
    "\n",
    "d = 30\n",
    "imageBC = np.copy(imageA)\n",
    "imageBC[50-d : 50+d, 50] = 0\n",
    "labels = random_walker(imageBC, markers)\n",
    "\n",
    "ax3.set_title('Image d=30')\n",
    "ax3.imshow(labels, cmap='gray')\n",
    "\n",
    "d = 40\n",
    "imageBC = np.copy(imageA)\n",
    "imageBC[50-d : 50+d, 50] = 0\n",
    "labels = random_walker(imageBC, markers)\n",
    "\n",
    "ax4.set_title('Image d=40')\n",
    "ax4.imshow(labels, cmap='gray')"
   ]
  },
  {
   "cell_type": "raw",
   "metadata": {},
   "source": [
    "The larger the gap d, the larger the diffusion of the pixels to the corresponding seeds."
   ]
  },
  {
   "cell_type": "raw",
   "metadata": {},
   "source": [
    "c)"
   ]
  },
  {
   "cell_type": "code",
   "execution_count": 36,
   "metadata": {
    "scrolled": true
   },
   "outputs": [
    {
     "data": {
      "text/plain": [
       "<matplotlib.image.AxesImage at 0x216fc400400>"
      ]
     },
     "execution_count": 36,
     "metadata": {},
     "output_type": "execute_result"
    },
    {
     "data": {
      "image/png": "[encoded data removed]",
      "text/plain": [
       "<matplotlib.figure.Figure at 0x216fc2af390>"
      ]
     },
     "metadata": {},
     "output_type": "display_data"
    }
   ],
   "source": [
    "fig = plt.figure()\n",
    "ax1 = fig.add_subplot(2, 2, 1)\n",
    "ax2 = fig.add_subplot(2, 2, 2)\n",
    "ax3 = fig.add_subplot(2, 2, 3)\n",
    "ax4 = fig.add_subplot(2, 2, 4)\n",
    "\n",
    "markers = np.zeros((imageA.shape[0], imageA.shape[1]))\n",
    "markers[30][30] = 1\n",
    "markers[40][40] = 2\n",
    "\n",
    "d = 5\n",
    "image = np.copy(imageA)\n",
    "image[50-d : 50+d, 50] = 0\n",
    "labels = random_walker(image, markers)\n",
    "\n",
    "ax1.imshow(image, cmap='gray')\n",
    "ax2.imshow(labels, cmap='gray')\n",
    "\n",
    "\n",
    "markers = np.zeros((imageA.shape[0], imageA.shape[1]))\n",
    "markers[0][0] = 1\n",
    "markers[10][55] = 2\n",
    "\n",
    "labels = random_walker(image, markers)\n",
    "ax3.imshow(labels, cmap='gray')\n",
    "\n",
    "markers = np.zeros((imageA.shape[0], imageA.shape[1]))\n",
    "markers[70][85] = 1\n",
    "markers[30][25] = 2\n",
    "\n",
    "labels = random_walker(image, markers)\n",
    "ax4.imshow(labels, cmap='gray')"
   ]
  },
  {
   "cell_type": "raw",
   "metadata": {},
   "source": [
    "if both seeds are on one side of the image, the pixels are divided equally. However, if the seeds are on different sides, the seed that is closer to the gap gets more pixels assigned."
   ]
  },
  {
   "cell_type": "raw",
   "metadata": {},
   "source": [
    "Exercise 3"
   ]
  },
  {
   "cell_type": "code",
   "execution_count": 40,
   "metadata": {},
   "outputs": [
    {
     "data": {
      "text/plain": [
       "<matplotlib.image.AxesImage at 0x216fd8d6ac8>"
      ]
     },
     "execution_count": 40,
     "metadata": {},
     "output_type": "execute_result"
    },
    {
     "data": {
      "image/png": "[encoded data removed]",
      "text/plain": [
       "<matplotlib.figure.Figure at 0x216f98007f0>"
      ]
     },
     "metadata": {},
     "output_type": "display_data"
    }
   ],
   "source": [
    "import h5py\n",
    "image = h5py.File('maze.h5', 'r')\n",
    "keys = list(image.keys())\n",
    "\n",
    "maze = np.array(image[keys[0]])\n",
    "\n",
    "markers = np.zeros((maze.shape[0], maze.shape[1]))\n",
    "markers[5][5] = 1\n",
    "markers[85][85] = 2\n",
    "\n",
    "labels = random_walker(maze, markers, beta=20)\n",
    "\n",
    "fig = plt.figure()\n",
    "ax1 = fig.add_subplot(121)\n",
    "ax2 = fig.add_subplot(122)\n",
    "fig.subplots_adjust(right=1.3)\n",
    "\n",
    "\n",
    "ax1.set_title('Image')\n",
    "ax1.imshow(maze, cmap='gray')\n",
    "\n",
    "ax2.set_title('Random Walker')\n",
    "ax2.imshow(labels, cmap='gray')"
   ]
  },
  {
   "cell_type": "raw",
   "metadata": {},
   "source": [
    "With a larger beta, the edges of the maze are more strongly observed and the diffusion of the pixels becomes smaller. But if beta ist smaller, the edges are broken through much faster."
   ]
  },
  {
   "cell_type": "code",
   "execution_count": null,
   "metadata": {},
   "outputs": [],
   "source": []
  }
 ],
 "metadata": {
  "kernelspec": {
   "display_name": "Python 3",
   "language": "python",
   "name": "python3"
  },
  "language_info": {
   "codemirror_mode": {
    "name": "ipython",
    "version": 3
   },
   "file_extension": ".py",
   "mimetype": "text/x-python",
   "name": "python",
   "nbconvert_exporter": "python",
   "pygments_lexer": "ipython3",
   "version": "3.6.4"
  }
 },
 "nbformat": 4,
 "nbformat_minor": 2
}
