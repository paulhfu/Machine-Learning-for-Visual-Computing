{
 "cells": [
  {
   "cell_type": "code",
   "execution_count": 3,
   "metadata": {},
   "outputs": [
    {
     "name": "stderr",
     "output_type": "stream",
     "text": [
      "C:\\Program Files (x86)\\Microsoft Visual Studio\\Shared\\Anaconda3_64\\lib\\site-packages\\h5py\\__init__.py:36: FutureWarning: Conversion of the second argument of issubdtype from `float` to `np.floating` is deprecated. In future, it will be treated as `np.float64 == np.dtype(float).type`.\n",
      "  from ._conv import register_converters as _register_converters\n"
     ]
    }
   ],
   "source": [
    "import h5py\n",
    "import matplotlib.pyplot as plt\n",
    "import numpy as np\n",
    "from random import randint"
   ]
  },
  {
   "cell_type": "code",
   "execution_count": 4,
   "metadata": {},
   "outputs": [],
   "source": [
    "def initUnaryProbabilities():\n",
    "    for i in range(len(predictions)):\n",
    "        for j in range(len(predictions[0])):\n",
    "            predictions[i][j] = randint(1, classes + 1)\n",
    "\n",
    "\n",
    "def createPairProbMatrix(pairMatrix):\n",
    "\n",
    "    return pairMatrix\n",
    "\n",
    "\n",
    "def absorbUnaryPot():\n",
    "    unaryOnes = []\n",
    "    onesUnary = []\n",
    "    for i in range(classes):\n",
    "        unaryOnes.append(np.multiply(predictions[i][:], np.ones((classes, 1))).transpose())\n",
    "        onesUnary.append(np.multiply(np.ones((classes, 1)), predictions[i][:]))\n",
    "        \n",
    "    potential = []\n",
    "    for j in range(classes - 1):\n",
    "        if(j != classes - 2):\n",
    "            potential.append(pairProp + unaryOnes[j] + onesUnary[j + 1])\n",
    "        else:\n",
    "            potential.append(pairProp + onesUnary[j + 1])\n",
    "\n",
    "    return np.array(potential)\n",
    "\n",
    "\n",
    "def updatePotentials(index):\n",
    "    if len(minimas) == 0:\n",
    "        return 0\n",
    "    else:\n",
    "        for i in range(classes):\n",
    "            for j in range(classes):\n",
    "                potentials[index][j][i] = potentials[index][j][i] + minimas[i - classes]\n",
    "\n",
    "    return 1\n",
    "\n",
    "\n",
    "def calculateMinima():\n",
    "    index = (int)(len(minimas) / classes)\n",
    "    updatePotentials(index)\n",
    "\n",
    "    for i in range(classes):\n",
    "        minimas.append(np.amin(potentials[index][:, i]))\n",
    "\n",
    "    minIndex = np.argmin(minimas[-classes:])\n",
    "    minValue = minimas[-classes:][minIndex]\n",
    "\n",
    "    if index == 0:\n",
    "        shortestPath.append(minIndex)\n",
    "\n",
    "    count = 0\n",
    "    for x in potentials[index][:, minIndex]:\n",
    "        if x == minValue:\n",
    "            shortestPath.append(count)\n",
    "        count += 1\n",
    "\n",
    "\n",
    "def calculateShortestPath():\n",
    "\n",
    "    for i in range(classes - 1):\n",
    "        calculateMinima()"
   ]
  },
  {
   "cell_type": "code",
   "execution_count": 5,
   "metadata": {},
   "outputs": [
    {
     "name": "stdout",
     "output_type": "stream",
     "text": [
      "Shortest Path Example 1:  [1, 1, 1]\n",
      "Shortest Path Example 2:  [0, 0, 1]\n"
     ]
    }
   ],
   "source": [
    "if __name__ == '__main__':\n",
    "    classes = 3\n",
    "\n",
    "    # Example 1\n",
    "    predictions = np.zeros((classes, classes))\n",
    "    shortestPath = []\n",
    "    minimas = []\n",
    "    costs = []\n",
    "\n",
    "    initUnaryProbabilities()\n",
    "\n",
    "    pairProp = createPairProbMatrix(np.matrix([[0,   1,   5], \n",
    "                                               [100, 0,   1],\n",
    "                                               [100, 100, 0]]))\n",
    "    potentials = absorbUnaryPot()\n",
    "\n",
    "    calculateShortestPath()\n",
    "    print(\"Shortest Path Example 1: \", shortestPath)\n",
    "\n",
    "\n",
    "    # Example 2\n",
    "    predictions = np.zeros((classes, classes))\n",
    "    shortestPath = []\n",
    "    minimas = []\n",
    "    costs = []\n",
    "\n",
    "    initUnaryProbabilities()\n",
    "\n",
    "    pairProp = createPairProbMatrix(np.matrix([[0,   9,   5], \n",
    "                                               [5,   0,   1],\n",
    "                                               [100, 2,   0]]))\n",
    "    potentials = absorbUnaryPot()\n",
    "\n",
    "    calculateShortestPath()\n",
    "    print(\"Shortest Path Example 2: \", shortestPath)"
   ]
  },
  {
   "cell_type": "code",
   "execution_count": null,
   "metadata": {},
   "outputs": [],
   "source": []
  }
 ],
 "metadata": {
  "kernelspec": {
   "display_name": "Python 3",
   "language": "python",
   "name": "python3"
  },
  "language_info": {
   "codemirror_mode": {
    "name": "ipython",
    "version": 3
   },
   "file_extension": ".py",
   "mimetype": "text/x-python",
   "name": "python",
   "nbconvert_exporter": "python",
   "pygments_lexer": "ipython3",
   "version": "3.6.4"
  }
 },
 "nbformat": 4,
 "nbformat_minor": 2
}
