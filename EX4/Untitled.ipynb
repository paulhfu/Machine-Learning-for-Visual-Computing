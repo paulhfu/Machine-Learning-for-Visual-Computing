{
 "cells": [
  {
   "cell_type": "code",
   "execution_count": 44,
   "metadata": {},
   "outputs": [],
   "source": [
    "import numpy as np"
   ]
  },
  {
   "cell_type": "code",
   "execution_count": 54,
   "metadata": {},
   "outputs": [],
   "source": [
    "x = np.zeros(4)\n",
    "lables=np.array([0, 1])\n",
    "uPotentials=np.zeros([4,2])\n",
    "pPotential=np.zeros([2,2])\n",
    "\n",
    "#Unary potentials:\n",
    "uPotentials[0]=[11, 3]\n",
    "uPotentials[1]=[6, 3]\n",
    "uPotentials[2]=[1, 10]\n",
    "uPotentials[3]=[5, 7]\n",
    "#Pairwise potentials:\n",
    "pPotential=[[3, -10],[-10, 3]]"
   ]
  },
  {
   "cell_type": "code",
   "execution_count": 57,
   "metadata": {},
   "outputs": [
    {
     "name": "stdout",
     "output_type": "stream",
     "text": [
      "The global minima for the energy function is:\n",
      "E( x1=1.0, x2=0.0, x3=0.0, x4=0.0) = -15.0\n"
     ]
    }
   ],
   "source": [
    "# just pick a large number where we can be certain that there will be smaller energies\n",
    "min_energy = 10000000\n",
    "for x1 in range(2):\n",
    "    for x2 in range(2):\n",
    "        for x3 in range(2):\n",
    "            for x4 in range(2):\n",
    "                energy = (uPotentials[0][x1] \n",
    "                + uPotentials[1][x2] \n",
    "                + uPotentials[2][x3] \n",
    "                + uPotentials[3][x4] \n",
    "                + pPotential[x1][x2] \n",
    "                + pPotential[x1][x3] \n",
    "                + pPotential[x1][x4])\n",
    "                \n",
    "                if(energy <= min_energy):\n",
    "                    min_energy = energy\n",
    "                    x[0]=x1\n",
    "                    x[1]=x2\n",
    "                    x[2]=x3\n",
    "                    x[3]=x4\n",
    "                    \n",
    "print(\"The global minima for the energy function is:\")\n",
    "print(\"E( x1=\"+str(x[0]) \n",
    "      + \", x2=\" + str(x[1]) \n",
    "      + \", x3=\" + str(x[2]) \n",
    "      + \", x4=\" + str(x[3]) \n",
    "      + \") = \" + str(min_energy))\n",
    "# The solution of this program for the x-vector also confirms the solution that was calculated by hand in Ex1.a"
   ]
  },
  {
   "cell_type": "code",
   "execution_count": null,
   "metadata": {},
   "outputs": [],
   "source": []
  },
  {
   "cell_type": "code",
   "execution_count": null,
   "metadata": {},
   "outputs": [],
   "source": []
  }
 ],
 "metadata": {
  "kernelspec": {
   "display_name": "Python 3",
   "language": "python",
   "name": "python3"
  },
  "language_info": {
   "codemirror_mode": {
    "name": "ipython",
    "version": 3
   },
   "file_extension": ".py",
   "mimetype": "text/x-python",
   "name": "python",
   "nbconvert_exporter": "python",
   "pygments_lexer": "ipython3",
   "version": "3.6.4"
  }
 },
 "nbformat": 4,
 "nbformat_minor": 2
}
