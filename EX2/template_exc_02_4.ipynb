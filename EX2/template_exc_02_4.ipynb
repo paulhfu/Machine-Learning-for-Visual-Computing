{
 "cells": [
  {
   "cell_type": "markdown",
   "metadata": {},
   "source": [
    "# Exercise Sheet 2\n",
    "## Exercise 4: Gibbs sampling"
   ]
  },
  {
   "cell_type": "code",
   "execution_count": 1,
   "metadata": {
    "collapsed": true
   },
   "outputs": [],
   "source": [
    "%matplotlib inline\n",
    "import numpy as np\n",
    "import matplotlib.pyplot as plt\n",
    "import seaborn as sns\n",
    "from random import random\n",
    "import h5py as h5\n",
    "\n",
    "###################################################################################################\n",
    "# don't worry if you have not used python extensively before and if this is confusing\n",
    "# it's only required for the nice progress bar\n",
    "# if you want to see the progress bar on your computer you need to first run conda install tqdm\n",
    "# (https://github.com/tqdm/tqdm)\n",
    "try:\n",
    "    # try to import functions from TQDM\n",
    "    from tqdm import tqdm_notebook as tqdm\n",
    "    from tqdm import tnrange\n",
    "except ModuleNotFoundError:\n",
    "    # if TQDM is not installed this fallback code will run.\n",
    "    # it just defines dummy functions that map back to vanilla python\n",
    "    # *args and *kwargs are \"catch-all\" arguments, see e.g. http://thepythonguru.com/python-args-and-kwargs/\n",
    "    def tqdm(x, *args, **kwargs):\n",
    "        return x\n",
    "    def tnrange(a, *args, **kwargs):\n",
    "        return range(a)\n",
    "###################################################################################################"
   ]
  },
  {
   "cell_type": "code",
   "execution_count": 2,
   "metadata": {
    "collapsed": true
   },
   "outputs": [],
   "source": [
    "def prior_l0(n_states):\n",
    "    # TODO create an array that represents the first prior\n",
    "    return prior\n",
    "\n",
    "def prior_l1(n_states):\n",
    "    # TODO create an array that represents the second prior\n",
    "    return prior"
   ]
  },
  {
   "cell_type": "code",
   "execution_count": 3,
   "metadata": {
    "collapsed": true
   },
   "outputs": [],
   "source": [
    "def calc_proba(lattice, x, y, pairwise, unary=None):\n",
    "    states = []\n",
    "    # TODO fill states with probabilities for all possible n_states at position x, y\n",
    "    # TODO use unary=None in part a) to sample only from the prior. Integrate the unaries in the probabilities for part b)\n",
    "    return states"
   ]
  },
  {
   "cell_type": "code",
   "execution_count": 4,
   "metadata": {
    "collapsed": true
   },
   "outputs": [],
   "source": [
    "def gibbs_update(lattice, x, y, pairwise, unary=None):\n",
    "    # TODO choose new state\n",
    "    lattice[x,y] = new_state"
   ]
  },
  {
   "cell_type": "code",
   "execution_count": 5,
   "metadata": {
    "collapsed": true
   },
   "outputs": [],
   "source": [
    "def sweep_scanlines(lattice, pairwise, unary=None):\n",
    "    # TODO: itererate over lattice and update all nodes\n",
    "\n",
    " \n",
    "def sweep_scanlines_rnd(lattice, pairwise, unary=None):\n",
    "    # TODO: itererate over lattice in random order and update all nodes        "
   ]
  },
  {
   "cell_type": "markdown",
   "metadata": {},
   "source": [
    "### a) Sampling from the prior"
   ]
  },
  {
   "cell_type": "code",
   "execution_count": null,
   "metadata": {
    "collapsed": true
   },
   "outputs": [],
   "source": [
    "# you can change these values if you like \n",
    "n_steps_x = 10\n",
    "n_steps_y = 4\n",
    "n_states = 4\n",
    "n_x = 50\n",
    "n_y = 50\n",
    "alpha = 2\n",
    "\n",
    "# TODO: setup lattice to random integers between 0 and n_states with shape (n_x, n_y)\n",
    "\n",
    "# TODO: call function to setup prior to be a (n_states,n_states) array\n",
    "\n",
    "f = plt.figure()\n",
    "f.set_size_inches((n_steps_y*3, n_steps_x*3))\n",
    "for i in tnrange(n_steps_x*n_steps_y):\n",
    "    for _ in range(10):\n",
    "        sweep_scanlines(lattice, prior)\n",
    "    ax = f.add_subplot(n_steps_x, n_steps_y, i+1)\n",
    "    ax.set_title(\"step \"+str(i))\n",
    "    ax.imshow(lattice, cmap='gray', vmax=n_states)"
   ]
  },
  {
   "cell_type": "code",
   "execution_count": 1,
   "metadata": {
    "collapsed": false
   },
   "outputs": [],
   "source": [
    "# TODO sample from the second prior"
   ]
  },
  {
   "cell_type": "markdown",
   "metadata": {},
   "source": [
    "### b) Sampling from the posterior"
   ]
  },
  {
   "cell_type": "code",
   "execution_count": 6,
   "metadata": {
    "collapsed": false
   },
   "outputs": [
    {
     "name": "stdout",
     "output_type": "stream",
     "text": [
      "(496, 768, 5)\n"
     ]
    }
   ],
   "source": [
    "# TODO load the predictions for the test image in pred\n",
    "print(pred.shape)"
   ]
  },
  {
   "cell_type": "markdown",
   "metadata": {},
   "source": [
    "#### Prior 1)"
   ]
  },
  {
   "cell_type": "code",
   "execution_count": null,
   "metadata": {
    "collapsed": true
   },
   "outputs": [],
   "source": [
    "n_steps_x = 4\n",
    "n_steps_y = 2\n",
    "n_states = 5\n",
    "alpha = 2\n",
    "\n",
    "# TODO: setup lattice to the classes with the highes probabilities according to pred\n",
    "\n",
    "# TODO: call function to setup prior to be a (n_states,n_states) array\n",
    "\n",
    "\n",
    "unary = pred\n",
    "\n",
    "samples = []\n",
    "\n",
    "\n",
    "for i in tnrange(n_steps_x*n_steps_y, desc='outer', position=0):\n",
    "    # TODO update all nodes in random order\n",
    "    samples.append(lattice.copy())\n",
    "\n",
    "\n"
   ]
  },
  {
   "cell_type": "code",
   "execution_count": null,
   "metadata": {
    "collapsed": true
   },
   "outputs": [],
   "source": [
    "f = plt.figure()\n",
    "f.set_size_inches((n_steps_y*3, n_steps_x*3))\n",
    "for i, sample in enumerate(samples):\n",
    "    ax = f.add_subplot(n_steps_x, n_steps_y, i+1)\n",
    "    \n",
    "    # TODO plot the samples"
   ]
  },
  {
   "cell_type": "code",
   "execution_count": 3,
   "metadata": {
    "collapsed": false
   },
   "outputs": [],
   "source": [
    "# TODO compute the mean posterior and plot it"
   ]
  },
  {
   "cell_type": "markdown",
   "metadata": {},
   "source": [
    "#### Prior 2)"
   ]
  },
  {
   "cell_type": "code",
   "execution_count": 4,
   "metadata": {
    "collapsed": true
   },
   "outputs": [],
   "source": [
    "# TODO do the same for prior 2)"
   ]
  },
  {
   "cell_type": "markdown",
   "metadata": {
    "collapsed": true
   },
   "source": [
    "### $\\star$ Gibbs sampling on a chessboard"
   ]
  },
  {
   "cell_type": "code",
   "execution_count": null,
   "metadata": {
    "collapsed": true
   },
   "outputs": [],
   "source": [
    "# TODO implement the Gibbs sampler to do the updates parallel for all \"black fields\" and afterwards all \"white fields\"\n",
    "# Hints (for one possible solution:\n",
    "# * convert the class labels into one-hot vectors of length n_states\n",
    "# * use masks to get all black fields, all white fields and all corresponding neighboring fields (you will have to extend the lattice on each side by a row/column of zero-vectors to avoid edge effects)\n",
    "# * to compute the class probabilities: first sum over the one-hot vectors of the neighboring nodes. then use matrix multiplication with the prior matrix\n",
    "# * to sample from multiple probability vectors at the same time you can use a reparametrization trick: sampling from a discrete distribution with probabilities (p_1,...,p_N) is equivalent to sampling (U_1,...,U_N) from a uniform distribution Uni(0,1) and then computeing the state as argmax_i(log(p_i)-log(-log(U_i)))"
   ]
  }
 ],
 "metadata": {
  "kernelspec": {
   "display_name": "Python 3",
   "language": "python",
   "name": "python3"
  },
  "language_info": {
   "codemirror_mode": {
    "name": "ipython",
    "version": 3
   },
   "file_extension": ".py",
   "mimetype": "text/x-python",
   "name": "python",
   "nbconvert_exporter": "python",
   "pygments_lexer": "ipython3",
   "version": "3.5.1"
  }
 },
 "nbformat": 4,
 "nbformat_minor": 0
}
